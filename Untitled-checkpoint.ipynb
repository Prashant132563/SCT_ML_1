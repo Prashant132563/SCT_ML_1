{
 "cells": [
  {
   "cell_type": "code",
   "execution_count": null,
   "id": "3182836d-3396-4ce4-8673-edaa16e684ac",
   "metadata": {},
   "outputs": [],
   "source": [
    "# Importing necessary libraries\n",
    "import pandas as pd\n",
    "import numpy as np\n",
    "from sklearn.model_selection import train_test_split\n",
    "from sklearn.linear_model import LinearRegression\n",
    "from sklearn.metrics import mean_squared_error\n",
    "\n",
    "# Step 1: Load the dataset\n",
    "# Replace 'your_dataset.csv' with the actual path to your dataset file\n",
    "df = pd.read_csv('price_price.csv')\n",
    "\n",
    "# Step 2: Explore the dataset (optional)\n",
    "print(df.head())  # View first few rows\n",
    "print(df.info())  # Check for missing values, data types, etc.\n",
    "\n",
    "# Step 3: Preprocess the data (if necessary)\n",
    "# Handle missing values (if any)\n",
    "df = df.dropna()  # Dropping rows with missing values, or you can fill missing values using df.fillna()\n",
    "\n",
    "# You may also need to encode categorical columns, but for this example, we're assuming numerical columns.\n",
    "\n",
    "# Step 4: Define the features (X) and the target (y)\n",
    "# Assuming you have columns 'square_footage', 'bedrooms', 'bathrooms', and 'price' in your dataset\n",
    "X = df[['square_footage', 'bedrooms', 'bathrooms']]  # Features (independent variables)\n",
    "y = df['price']  # Target (dependent variable)\n",
    "\n",
    "# Step 5: Split the dataset into training and testing sets\n",
    "X_train, X_test, y_train, y_test = train_test_split(X, y, test_size=0.2, random_state=42)\n",
    "\n",
    "# Step 6: Initialize and train the Linear Regression model\n",
    "model = LinearRegression()\n",
    "model.fit(X_train, y_train)\n",
    "\n",
    "# Step 7: Make predictions\n",
    "y_pred = model.predict(X_test)\n",
    "\n",
    "# Step 8: Evaluate the model\n",
    "mse = mean_squared_error(y_test, y_pred)  # Mean Squared Error\n",
    "rmse = np.sqrt(mse)  # Root Mean Squared Error (optional but informative)\n",
    "\n",
    "# Step 9: Output results\n",
    "print(f'Mean Squared Error: {mse}')\n",
    "print(f'Root Mean Squared Error: {rmse}')\n",
    "print(f'Coefficients: {model.coef_}')\n",
    "print(f'Intercept: {model.intercept_}')\n",
    "\n",
    "# Compare Actual vs Predicted values (optional)\n",
    "comparison = pd.DataFrame({'Actual': y_test, 'Predicted': y_pred})\n",
    "print(comparison.head())\n",
    "\n"
   ]
  }
 ],
 "metadata": {
  "kernelspec": {
   "display_name": "Python 3 (ipykernel)",
   "language": "python",
   "name": "python3"
  },
  "language_info": {
   "codemirror_mode": {
    "name": "ipython",
    "version": 3
   },
   "file_extension": ".py",
   "mimetype": "text/x-python",
   "name": "python",
   "nbconvert_exporter": "python",
   "pygments_lexer": "ipython3",
   "version": "3.12.7"
  }
 },
 "nbformat": 4,
 "nbformat_minor": 5
}
